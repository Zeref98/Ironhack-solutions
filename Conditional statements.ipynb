{
 "cells": [
  {
   "cell_type": "code",
   "execution_count": 24,
   "id": "norwegian-showcase",
   "metadata": {},
   "outputs": [
    {
     "name": "stdout",
     "output_type": "stream",
     "text": [
      "Choose an integer number:5\n"
     ]
    }
   ],
   "source": [
    "x = int(input ('Choose an integer number:'))"
   ]
  },
  {
   "cell_type": "code",
   "execution_count": 25,
   "id": "southeast-intention",
   "metadata": {},
   "outputs": [
    {
     "name": "stdout",
     "output_type": "stream",
     "text": [
      "It is an odd number\n"
     ]
    }
   ],
   "source": [
    "if x/2 - int(x/2) != 0:\n",
    "    print('It is an odd number')\n",
    "elif x/2 - int(x/2) == 0:\n",
    "    print('It is an even number')\n",
    "elif x == 0:\n",
    "    print('It is neither an odd number nor an even number')"
   ]
  },
  {
   "cell_type": "code",
   "execution_count": 26,
   "id": "inappropriate-fraction",
   "metadata": {},
   "outputs": [
    {
     "name": "stdout",
     "output_type": "stream",
     "text": [
      "Choose an integer number:6\n"
     ]
    }
   ],
   "source": [
    "y = int(input ('Choose an integer number:'))"
   ]
  },
  {
   "cell_type": "code",
   "execution_count": 28,
   "id": "biblical-advocate",
   "metadata": {},
   "outputs": [
    {
     "name": "stdout",
     "output_type": "stream",
     "text": [
      "It is a positive nummber\n"
     ]
    }
   ],
   "source": [
    "if y < 0:\n",
    "    print('It is a negative number')\n",
    "elif y == 0:\n",
    "    print('It is 0')\n",
    "else:\n",
    "    print('It is a positive nummber')"
   ]
  },
  {
   "cell_type": "code",
   "execution_count": 29,
   "id": "surface-persian",
   "metadata": {},
   "outputs": [
    {
     "name": "stdout",
     "output_type": "stream",
     "text": [
      "Enter the grade:65\n"
     ]
    }
   ],
   "source": [
    "Mark = int (input ('Enter the grade:'))"
   ]
  },
  {
   "cell_type": "code",
   "execution_count": 30,
   "id": "union-airfare",
   "metadata": {},
   "outputs": [
    {
     "name": "stdout",
     "output_type": "stream",
     "text": [
      "The score is C\n"
     ]
    }
   ],
   "source": [
    "if Mark < 0 or Mark > 100:\n",
    "    print('Check the number')\n",
    "elif Mark > 0 and Mark < 25:\n",
    "    print('The score is F')\n",
    "elif Mark > 25 and Mark < 45:\n",
    "    print('The score is E')\n",
    "elif Mark > 45 and Mark < 60:\n",
    "    print('The score is D')\n",
    "elif Mark > 60 and Mark < 75:\n",
    "    print('The score is C')\n",
    "elif Mark > 75 and Mark < 90:\n",
    "    print('The score is B')\n",
    "else:\n",
    "    print('The score is A')"
   ]
  },
  {
   "cell_type": "code",
   "execution_count": 31,
   "id": "native-crack",
   "metadata": {},
   "outputs": [
    {
     "name": "stdout",
     "output_type": "stream",
     "text": [
      "Insert an integer:6.7\n",
      "Choose the number again\n"
     ]
    }
   ],
   "source": [
    "x = input ('Insert an integer:')\n",
    "if type(x) is int:\n",
    "    if x/2 - int(x/2) != 0:\n",
    "        print('It is an odd number')\n",
    "    elif x/2 - int(x/2) == 0:\n",
    "        print('It is an even number')\n",
    "    elif x == 0:\n",
    "        print('It is neither an odd number nor an even number')\n",
    "else:\n",
    "    print('Choose the number again')"
   ]
  },
  {
   "cell_type": "code",
   "execution_count": null,
   "id": "silver-imaging",
   "metadata": {},
   "outputs": [],
   "source": []
  }
 ],
 "metadata": {
  "kernelspec": {
   "display_name": "Python 3",
   "language": "python",
   "name": "python3"
  },
  "language_info": {
   "codemirror_mode": {
    "name": "ipython",
    "version": 3
   },
   "file_extension": ".py",
   "mimetype": "text/x-python",
   "name": "python",
   "nbconvert_exporter": "python",
   "pygments_lexer": "ipython3",
   "version": "3.7.10"
  }
 },
 "nbformat": 4,
 "nbformat_minor": 5
}
