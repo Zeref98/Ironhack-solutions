{
 "cells": [
  {
   "cell_type": "code",
   "execution_count": 1,
   "id": "after-deployment",
   "metadata": {},
   "outputs": [],
   "source": [
    "lst = [1,2,34,5,3,12,9, 8, 67, 89, 98, 90, 39, 21, 45, 46, 23, 13]"
   ]
  },
  {
   "cell_type": "code",
   "execution_count": 3,
   "id": "quality-skirt",
   "metadata": {
    "scrolled": true
   },
   "outputs": [
    {
     "data": {
      "text/plain": [
       "18"
      ]
     },
     "execution_count": 3,
     "metadata": {},
     "output_type": "execute_result"
    }
   ],
   "source": [
    "len(lst)"
   ]
  },
  {
   "cell_type": "code",
   "execution_count": 4,
   "id": "cardiac-summary",
   "metadata": {},
   "outputs": [
    {
     "data": {
      "text/plain": [
       "1"
      ]
     },
     "execution_count": 4,
     "metadata": {},
     "output_type": "execute_result"
    }
   ],
   "source": [
    "lst[0]"
   ]
  },
  {
   "cell_type": "code",
   "execution_count": 5,
   "id": "square-visibility",
   "metadata": {},
   "outputs": [
    {
     "data": {
      "text/plain": [
       "13"
      ]
     },
     "execution_count": 5,
     "metadata": {},
     "output_type": "execute_result"
    }
   ],
   "source": [
    "lst[-1]"
   ]
  },
  {
   "cell_type": "code",
   "execution_count": 6,
   "id": "progressive-cliff",
   "metadata": {},
   "outputs": [
    {
     "data": {
      "text/plain": [
       "11"
      ]
     },
     "execution_count": 6,
     "metadata": {},
     "output_type": "execute_result"
    }
   ],
   "source": [
    "lst.index(90)"
   ]
  },
  {
   "cell_type": "code",
   "execution_count": 7,
   "id": "czech-tuesday",
   "metadata": {},
   "outputs": [
    {
     "data": {
      "text/plain": [
       "[1, 2, 34, 5, 3, 12, 9]"
      ]
     },
     "execution_count": 7,
     "metadata": {},
     "output_type": "execute_result"
    }
   ],
   "source": [
    "lst[:8]"
   ]
  },
  {
   "cell_type": "code",
   "execution_count": 8,
   "id": "dutch-hollow",
   "metadata": {},
   "outputs": [],
   "source": [
    "lst.append(100)"
   ]
  },
  {
   "cell_type": "code",
   "execution_count": 9,
   "id": "focal-hardware",
   "metadata": {},
   "outputs": [],
   "source": [
    "lst.append(110)"
   ]
  },
  {
   "cell_type": "code",
   "execution_count": 10,
   "id": "skilled-patient",
   "metadata": {},
   "outputs": [
    {
     "data": {
      "text/plain": [
       "[1, 2, 34, 5, 3, 12, 9, 8, 67, 89, 98, 90, 39, 21, 45, 46, 23, 13, 100, 110]"
      ]
     },
     "execution_count": 10,
     "metadata": {},
     "output_type": "execute_result"
    }
   ],
   "source": [
    "lst"
   ]
  },
  {
   "cell_type": "code",
   "execution_count": 11,
   "id": "fabulous-speed",
   "metadata": {},
   "outputs": [],
   "source": [
    "lst2 = [3,1,3,4]"
   ]
  },
  {
   "cell_type": "code",
   "execution_count": 12,
   "id": "flexible-dutch",
   "metadata": {},
   "outputs": [
    {
     "data": {
      "text/plain": [
       "4"
      ]
     },
     "execution_count": 12,
     "metadata": {},
     "output_type": "execute_result"
    }
   ],
   "source": [
    "len(lst2)"
   ]
  },
  {
   "cell_type": "code",
   "execution_count": 14,
   "id": "engaged-palestine",
   "metadata": {},
   "outputs": [
    {
     "data": {
      "text/plain": [
       "3"
      ]
     },
     "execution_count": 14,
     "metadata": {},
     "output_type": "execute_result"
    }
   ],
   "source": [
    "lst2[0]"
   ]
  },
  {
   "cell_type": "code",
   "execution_count": 15,
   "id": "standard-scout",
   "metadata": {},
   "outputs": [
    {
     "data": {
      "text/plain": [
       "4"
      ]
     },
     "execution_count": 15,
     "metadata": {},
     "output_type": "execute_result"
    }
   ],
   "source": [
    "lst2[-1]"
   ]
  },
  {
   "cell_type": "code",
   "execution_count": 16,
   "id": "rural-advance",
   "metadata": {},
   "outputs": [
    {
     "data": {
      "text/plain": [
       "0"
      ]
     },
     "execution_count": 16,
     "metadata": {},
     "output_type": "execute_result"
    }
   ],
   "source": [
    "lst2.index(3)"
   ]
  },
  {
   "cell_type": "markdown",
   "id": "objective-jurisdiction",
   "metadata": {},
   "source": [
    "It shows us that when we look for an index it is shown the first one in the list"
   ]
  },
  {
   "cell_type": "code",
   "execution_count": 18,
   "id": "confidential-allowance",
   "metadata": {},
   "outputs": [
    {
     "data": {
      "text/plain": [
       "[3, 1]"
      ]
     },
     "execution_count": 18,
     "metadata": {},
     "output_type": "execute_result"
    }
   ],
   "source": [
    "lst2[:2]"
   ]
  },
  {
   "cell_type": "code",
   "execution_count": 19,
   "id": "affected-export",
   "metadata": {},
   "outputs": [],
   "source": [
    "lst2.append(100)"
   ]
  },
  {
   "cell_type": "code",
   "execution_count": 20,
   "id": "union-finding",
   "metadata": {},
   "outputs": [],
   "source": [
    "lst2.append(110)"
   ]
  },
  {
   "cell_type": "code",
   "execution_count": 21,
   "id": "posted-ghost",
   "metadata": {},
   "outputs": [
    {
     "data": {
      "text/plain": [
       "[3, 1, 3, 4, 100, 110]"
      ]
     },
     "execution_count": 21,
     "metadata": {},
     "output_type": "execute_result"
    }
   ],
   "source": [
    "lst2"
   ]
  },
  {
   "cell_type": "code",
   "execution_count": null,
   "id": "postal-orientation",
   "metadata": {},
   "outputs": [],
   "source": []
  }
 ],
 "metadata": {
  "kernelspec": {
   "display_name": "Python 3",
   "language": "python",
   "name": "python3"
  },
  "language_info": {
   "codemirror_mode": {
    "name": "ipython",
    "version": 3
   },
   "file_extension": ".py",
   "mimetype": "text/x-python",
   "name": "python",
   "nbconvert_exporter": "python",
   "pygments_lexer": "ipython3",
   "version": "3.7.10"
  }
 },
 "nbformat": 4,
 "nbformat_minor": 5
}
