{
 "cells": [
  {
   "cell_type": "code",
   "execution_count": 1,
   "id": "informal-edwards",
   "metadata": {},
   "outputs": [],
   "source": [
    "gandalf = [10, 11, 13, 30, 22, 11, 10, 33, 22, 22]\n",
    "saruman = [23, 66, 12, 43, 12, 10, 44, 23, 12, 17]"
   ]
  },
  {
   "cell_type": "code",
   "execution_count": 2,
   "id": "other-sword",
   "metadata": {},
   "outputs": [],
   "source": [
    "G_t = 0\n",
    "S_t = 0"
   ]
  },
  {
   "cell_type": "code",
   "execution_count": 4,
   "id": "qualified-papua",
   "metadata": {},
   "outputs": [
    {
     "name": "stdout",
     "output_type": "stream",
     "text": [
      "Gandalf wins\n"
     ]
    }
   ],
   "source": [
    "for i in range(len(gandalf)):\n",
    "    if gandalf[i] > saruman[i]:\n",
    "        G_t += 1\n",
    "    elif gandalf[i] < saruman[i]:\n",
    "        S_t += 1\n",
    "if S_t > G_t:\n",
    "    print('Saruman wins')\n",
    "elif G_t > S_t:\n",
    "    print('Gandalf wins')\n",
    "else:\n",
    "    print('It is a Tie')"
   ]
  }
 ],
 "metadata": {
  "kernelspec": {
   "display_name": "Python 3",
   "language": "python",
   "name": "python3"
  },
  "language_info": {
   "codemirror_mode": {
    "name": "ipython",
    "version": 3
   },
   "file_extension": ".py",
   "mimetype": "text/x-python",
   "name": "python",
   "nbconvert_exporter": "python",
   "pygments_lexer": "ipython3",
   "version": "3.7.10"
  }
 },
 "nbformat": 4,
 "nbformat_minor": 5
}
