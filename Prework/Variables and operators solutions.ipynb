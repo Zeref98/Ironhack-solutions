{
 "cells": [
  {
   "cell_type": "code",
   "execution_count": 49,
   "id": "healthy-philosophy",
   "metadata": {},
   "outputs": [],
   "source": [
    "import numpy as np\n",
    "import math as math"
   ]
  },
  {
   "cell_type": "code",
   "execution_count": 50,
   "id": "convenient-thinking",
   "metadata": {},
   "outputs": [],
   "source": [
    "x1 = 1.1\n",
    "x2 = \"Ironhack\"\n",
    "x3 = \"1.1\"\n",
    "x4 = True\n",
    "x5 = \"True\"\n",
    "x6 = -1"
   ]
  },
  {
   "cell_type": "code",
   "execution_count": 51,
   "id": "separated-seventh",
   "metadata": {},
   "outputs": [
    {
     "name": "stdout",
     "output_type": "stream",
     "text": [
      "<class 'float'>\n",
      "<class 'str'>\n"
     ]
    }
   ],
   "source": [
    "print (type (x1))\n",
    "print (type (x3))"
   ]
  },
  {
   "cell_type": "code",
   "execution_count": 52,
   "id": "involved-implementation",
   "metadata": {},
   "outputs": [
    {
     "ename": "TypeError",
     "evalue": "unsupported operand type(s) for -: 'float' and 'str'",
     "output_type": "error",
     "traceback": [
      "\u001b[0;31m---------------------------------------------------------------------------\u001b[0m",
      "\u001b[0;31mTypeError\u001b[0m                                 Traceback (most recent call last)",
      "\u001b[0;32m<ipython-input-52-c5539fba3b91>\u001b[0m in \u001b[0;36m<module>\u001b[0;34m\u001b[0m\n\u001b[0;32m----> 1\u001b[0;31m \u001b[0mx1\u001b[0m\u001b[0;34m-\u001b[0m\u001b[0mx3\u001b[0m\u001b[0;34m\u001b[0m\u001b[0;34m\u001b[0m\u001b[0m\n\u001b[0m",
      "\u001b[0;31mTypeError\u001b[0m: unsupported operand type(s) for -: 'float' and 'str'"
     ]
    }
   ],
   "source": [
    "x1-x3"
   ]
  },
  {
   "cell_type": "markdown",
   "id": "selective-guide",
   "metadata": {},
   "source": [
    "It is not possible to substract them because they are both numbers, but one is between quotation marks that make it a kind of word, so you are not able to operate words and numbers. If we wanted to operate them, we shall quit the quotation marks."
   ]
  },
  {
   "cell_type": "code",
   "execution_count": 53,
   "id": "representative-screw",
   "metadata": {},
   "outputs": [
    {
     "name": "stdout",
     "output_type": "stream",
     "text": [
      "<class 'bool'>\n",
      "<class 'str'>\n"
     ]
    }
   ],
   "source": [
    "print (type (x4))\n",
    "print (type (x5))"
   ]
  },
  {
   "cell_type": "code",
   "execution_count": 54,
   "id": "color-thompson",
   "metadata": {},
   "outputs": [
    {
     "ename": "TypeError",
     "evalue": "unsupported operand type(s) for -: 'bool' and 'str'",
     "output_type": "error",
     "traceback": [
      "\u001b[0;31m---------------------------------------------------------------------------\u001b[0m",
      "\u001b[0;31mTypeError\u001b[0m                                 Traceback (most recent call last)",
      "\u001b[0;32m<ipython-input-54-1b69fec7f251>\u001b[0m in \u001b[0;36m<module>\u001b[0;34m\u001b[0m\n\u001b[0;32m----> 1\u001b[0;31m \u001b[0mx4\u001b[0m \u001b[0;34m-\u001b[0m \u001b[0mx5\u001b[0m\u001b[0;34m\u001b[0m\u001b[0;34m\u001b[0m\u001b[0m\n\u001b[0m",
      "\u001b[0;31mTypeError\u001b[0m: unsupported operand type(s) for -: 'bool' and 'str'"
     ]
    }
   ],
   "source": [
    "x4 - x5"
   ]
  },
  {
   "cell_type": "markdown",
   "id": "exceptional-injury",
   "metadata": {},
   "source": [
    "It is impossible to add or subtract things that are not mathematical expresions or numbers."
   ]
  },
  {
   "cell_type": "code",
   "execution_count": 55,
   "id": "visible-shelf",
   "metadata": {},
   "outputs": [
    {
     "name": "stdout",
     "output_type": "stream",
     "text": [
      "Please enter an integer number: 1\n",
      "Please enter another integer number2\n"
     ]
    }
   ],
   "source": [
    "x1 = input (\"Please enter an integer number: \")\n",
    "\n",
    "x2 = input (\"Please enter another integer number\")"
   ]
  },
  {
   "cell_type": "code",
   "execution_count": 56,
   "id": "distinguished-sender",
   "metadata": {},
   "outputs": [],
   "source": [
    "x1 = int(x1) # This converts string into integer and re-initializes `x1`\n",
    "x2 = int(x2) # This converts string into integer and re-initializes `x2`"
   ]
  },
  {
   "cell_type": "code",
   "execution_count": 57,
   "id": "warming-wholesale",
   "metadata": {},
   "outputs": [
    {
     "name": "stdout",
     "output_type": "stream",
     "text": [
      "<class 'int'>\n",
      "<class 'int'>\n"
     ]
    }
   ],
   "source": [
    "print (type (x1))\n",
    "print (type (x2))"
   ]
  },
  {
   "cell_type": "markdown",
   "id": "imposed-trustee",
   "metadata": {},
   "source": [
    "As it is shown. They are the same kind of variable."
   ]
  },
  {
   "cell_type": "code",
   "execution_count": 58,
   "id": "champion-finland",
   "metadata": {},
   "outputs": [
    {
     "data": {
      "text/plain": [
       "False"
      ]
     },
     "execution_count": 58,
     "metadata": {},
     "output_type": "execute_result"
    }
   ],
   "source": [
    "x1 > x2"
   ]
  },
  {
   "cell_type": "code",
   "execution_count": 59,
   "id": "conditional-actor",
   "metadata": {},
   "outputs": [
    {
     "data": {
      "text/plain": [
       "True"
      ]
     },
     "execution_count": 59,
     "metadata": {},
     "output_type": "execute_result"
    }
   ],
   "source": [
    "x2 > x1"
   ]
  },
  {
   "cell_type": "code",
   "execution_count": 60,
   "id": "prospective-crash",
   "metadata": {},
   "outputs": [
    {
     "data": {
      "text/plain": [
       "True"
      ]
     },
     "execution_count": 60,
     "metadata": {},
     "output_type": "execute_result"
    }
   ],
   "source": [
    "x1 != x2"
   ]
  },
  {
   "cell_type": "code",
   "execution_count": 61,
   "id": "careful-mason",
   "metadata": {},
   "outputs": [
    {
     "name": "stdout",
     "output_type": "stream",
     "text": [
      "x2 is greater\n"
     ]
    }
   ],
   "source": [
    "#Another possibility is:\n",
    "if x1 > x2:\n",
    "    print('x1 is greater')\n",
    "elif x1 == x2:\n",
    "    print('x1 and x2 are the same')\n",
    "else:\n",
    "    print('x2 is greater')"
   ]
  },
  {
   "cell_type": "code",
   "execution_count": 62,
   "id": "religious-latino",
   "metadata": {},
   "outputs": [],
   "source": [
    "x3 = np.abs (x1 - x2)"
   ]
  },
  {
   "cell_type": "code",
   "execution_count": 63,
   "id": "invisible-jungle",
   "metadata": {},
   "outputs": [
    {
     "name": "stdout",
     "output_type": "stream",
     "text": [
      "1\n"
     ]
    }
   ],
   "source": [
    "print(x3)"
   ]
  },
  {
   "cell_type": "code",
   "execution_count": 64,
   "id": "returning-revision",
   "metadata": {},
   "outputs": [],
   "source": [
    "if x1 > x2:\n",
    "    x2 = x2 + x3\n",
    "elif x2 > x1:\n",
    "    x1 = x1 + x3"
   ]
  },
  {
   "cell_type": "code",
   "execution_count": 65,
   "id": "classified-spencer",
   "metadata": {},
   "outputs": [
    {
     "data": {
      "text/plain": [
       "True"
      ]
     },
     "execution_count": 65,
     "metadata": {},
     "output_type": "execute_result"
    }
   ],
   "source": [
    "x2 == x1"
   ]
  },
  {
   "cell_type": "code",
   "execution_count": 66,
   "id": "efficient-japan",
   "metadata": {},
   "outputs": [
    {
     "data": {
      "text/plain": [
       "89.0"
      ]
     },
     "execution_count": 66,
     "metadata": {},
     "output_type": "execute_result"
    }
   ],
   "source": [
    "math.fabs (-89)"
   ]
  },
  {
   "cell_type": "code",
   "execution_count": 67,
   "id": "serial-skill",
   "metadata": {},
   "outputs": [
    {
     "data": {
      "text/plain": [
       "True"
      ]
     },
     "execution_count": 67,
     "metadata": {},
     "output_type": "execute_result"
    }
   ],
   "source": [
    "math.isfinite(24)"
   ]
  },
  {
   "cell_type": "code",
   "execution_count": 68,
   "id": "latter-marshall",
   "metadata": {},
   "outputs": [
    {
     "data": {
      "text/plain": [
       "(0.0, 25.0)"
      ]
     },
     "execution_count": 68,
     "metadata": {},
     "output_type": "execute_result"
    }
   ],
   "source": [
    "math.modf(25)"
   ]
  }
 ],
 "metadata": {
  "kernelspec": {
   "display_name": "Python 3",
   "language": "python",
   "name": "python3"
  },
  "language_info": {
   "codemirror_mode": {
    "name": "ipython",
    "version": 3
   },
   "file_extension": ".py",
   "mimetype": "text/x-python",
   "name": "python",
   "nbconvert_exporter": "python",
   "pygments_lexer": "ipython3",
   "version": "3.7.10"
  }
 },
 "nbformat": 4,
 "nbformat_minor": 5
}
